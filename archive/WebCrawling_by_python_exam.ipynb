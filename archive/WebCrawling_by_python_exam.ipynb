{
 "cells": [
  {
   "cell_type": "code",
   "execution_count": 11,
   "metadata": {},
   "outputs": [],
   "source": [
    "import requests\n",
    "import bs4\n",
    "import xlsxwriter as xw"
   ]
  },
  {
   "cell_type": "code",
   "execution_count": 6,
   "metadata": {},
   "outputs": [
    {
     "name": "stdout",
     "output_type": "stream",
     "text": [
      "https://search.naver.com/search.naver?date_from=&date_option=0&date_to=&dup_remove=1&nso=&post_blogurl=&post_blogurl_without=&query=코로나&sm=tab_pge&srchby=all&st=sim&where=post&start=1\n"
     ]
    }
   ],
   "source": [
    "url = 'https://search.naver.com/search.naver?date_from=&date_option=0&date_to=&dup_remove=1&nso=&post_blogurl=&post_blogurl_without=&query={}&sm=tab_pge&srchby=all&st=sim&where=post&start={}'\n",
    "url = url.format('코로나', 1)\n",
    "\n",
    "print(url)"
   ]
  },
  {
   "cell_type": "code",
   "execution_count": 57,
   "metadata": {},
   "outputs": [],
   "source": [
    "res = requests.get(url)\n",
    "blogs = bs4.BeautifulSoup(res.text)\n",
    "\n",
    "section = blogs.find('div', class_ = 'blog section _blogBase _prs_blg')\n",
    "li_list = section.find_all('li', class_ = 'sh_blog_top')\n",
    "\n",
    "posts = []\n",
    "\n",
    "for n, li in enumerate(li_list):\n",
    "    post = {}\n",
    "    \n",
    "    post['title'] = li.find('dl').find('a')['title']\n",
    "    post['link'] = li.find('dl').find('a')['href']\n",
    "    post['passage'] = li.find('dl').find('dd', class_ = 'sh_blog_passage').text\n",
    "    \n",
    "    posts.append(post)"
   ]
  },
  {
   "cell_type": "code",
   "execution_count": 58,
   "metadata": {},
   "outputs": [],
   "source": [
    "wb = xw.Workbook('final_exam.xlsx')\n",
    "\n",
    "ws = wb.add_worksheet('covid-19')\n",
    "\n",
    "keys = ['title', 'link','passage']\n",
    "ws.write_row(0,0,keys)\n",
    "\n",
    "for n, post in enumerate(posts):\n",
    "    for k, key in enumerate(keys):\n",
    "        ws.write(n+1,k,post[key])\n",
    "\n",
    "wb.close()"
   ]
  },
  {
   "cell_type": "code",
   "execution_count": null,
   "metadata": {},
   "outputs": [],
   "source": []
  }
 ],
 "metadata": {
  "kernelspec": {
   "display_name": "Python 3",
   "language": "python",
   "name": "python3"
  },
  "language_info": {
   "codemirror_mode": {
    "name": "ipython",
    "version": 3
   },
   "file_extension": ".py",
   "mimetype": "text/x-python",
   "name": "python",
   "nbconvert_exporter": "python",
   "pygments_lexer": "ipython3",
   "version": "3.7.6"
  }
 },
 "nbformat": 4,
 "nbformat_minor": 4
}
