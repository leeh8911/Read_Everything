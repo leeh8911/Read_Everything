{
 "cells": [
  {
   "cell_type": "markdown",
   "metadata": {},
   "source": [
    "# CS231n L3 Loss function and optimization\n",
    "* TODO :    \n",
    "    1. Define a *loss function* that quantifies our unhappiness with the scores across the trainning data\n",
    "    2. Come up with a way of efficiently finding the parameters that minimize the loss function(*optimization*)\n",
    "\n",
    "## Loss functions\n",
    "* Given a dataset of examples $\\{(x_{i}, y_{i})\\}^{N}_{i=1}$. Where $x_i$ is image and $y_i$ is integer label\n",
    "* Loss over the dataset is a sum of loss over examples :\n",
    "    $ L = \\frac{1}{N}\\sum_i{L_i(f(x_i,W),y_i)}$\n",
    "\n",
    "\n",
    "## optimization\n"
   ]
  },
  {
   "cell_type": "code",
   "execution_count": 7,
   "metadata": {},
   "outputs": [
    {
     "ename": "TypeError",
     "evalue": "load_data() got an unexpected keyword argument 'label_mode'",
     "output_type": "error",
     "traceback": [
      "\u001b[1;31m---------------------------------------------------------------------------\u001b[0m",
      "\u001b[1;31mTypeError\u001b[0m                                 Traceback (most recent call last)",
      "\u001b[1;32m<ipython-input-7-dd892d44e030>\u001b[0m in \u001b[0;36m<module>\u001b[1;34m\u001b[0m\n\u001b[0;32m      2\u001b[0m \u001b[1;32mfrom\u001b[0m \u001b[0mtensorflow\u001b[0m\u001b[1;33m.\u001b[0m\u001b[0mkeras\u001b[0m\u001b[1;33m.\u001b[0m\u001b[0mdatasets\u001b[0m \u001b[1;32mimport\u001b[0m \u001b[0mcifar10\u001b[0m\u001b[1;33m\u001b[0m\u001b[1;33m\u001b[0m\u001b[0m\n\u001b[0;32m      3\u001b[0m \u001b[1;33m\u001b[0m\u001b[0m\n\u001b[1;32m----> 4\u001b[1;33m \u001b[1;33m(\u001b[0m\u001b[0mx_train\u001b[0m\u001b[1;33m,\u001b[0m \u001b[0my_train\u001b[0m\u001b[1;33m)\u001b[0m\u001b[1;33m,\u001b[0m\u001b[1;33m(\u001b[0m\u001b[0mx_test\u001b[0m\u001b[1;33m,\u001b[0m \u001b[0my_test\u001b[0m\u001b[1;33m)\u001b[0m \u001b[1;33m=\u001b[0m \u001b[0mcifar10\u001b[0m\u001b[1;33m.\u001b[0m\u001b[0mload_data\u001b[0m\u001b[1;33m(\u001b[0m\u001b[0mlabel_mode\u001b[0m\u001b[1;33m=\u001b[0m\u001b[1;34m'coarse'\u001b[0m\u001b[1;33m)\u001b[0m\u001b[1;33m\u001b[0m\u001b[1;33m\u001b[0m\u001b[0m\n\u001b[0m\u001b[0;32m      5\u001b[0m \u001b[1;33m\u001b[0m\u001b[0m\n\u001b[0;32m      6\u001b[0m \u001b[0mprint\u001b[0m\u001b[1;33m(\u001b[0m\u001b[1;34m\"Trainning data : \"\u001b[0m\u001b[1;33m)\u001b[0m\u001b[1;33m\u001b[0m\u001b[1;33m\u001b[0m\u001b[0m\n",
      "\u001b[1;31mTypeError\u001b[0m: load_data() got an unexpected keyword argument 'label_mode'"
     ]
    }
   ],
   "source": [
    "# Load dataset\n",
    "from tensorflow.keras.datasets import cifar10\n",
    "import matplotlib.pyplot as plt\n",
    "\n",
    "(x_train, y_train),(x_test, y_test) = cifar10.load_data()\n",
    "\n",
    "print(\"Trainning data : \")\n",
    "print(\"Number of examples : {}\".format(x_train.shape[0]))\n",
    "print(\"Number of channels : {}\".format(x_train.shape[3]))\n",
    "print(\"Image size : {} X {}\".format(x_train.shape[1], x_train.shape[2]))\n",
    "print(\"\")\n",
    "print(\"Test data : \")\n",
    "print(\"Number of examples : {}\".format(x_test.shape[0]))\n",
    "print(\"Number of channels : {}\".format(x_test.shape[3]))\n",
    "print(\"Image size : {} X {}\".format(x_test.shape[1], x_test.shape[2]))\n",
    "\n",
    "for i in range(10):\n",
    "    y_train.find\n"
   ]
  },
  {
   "cell_type": "code",
   "execution_count": null,
   "metadata": {},
   "outputs": [],
   "source": [
    "# 3 image example\n",
    "# cat, car, frog\n",
    "# f(x, W) = Wx --> score!"
   ]
  }
 ],
 "metadata": {
  "kernelspec": {
   "display_name": "venv",
   "language": "python",
   "name": "venv"
  },
  "language_info": {
   "codemirror_mode": {
    "name": "ipython",
    "version": 3
   },
   "file_extension": ".py",
   "mimetype": "text/x-python",
   "name": "python",
   "nbconvert_exporter": "python",
   "pygments_lexer": "ipython3",
   "version": "3.6.10"
  }
 },
 "nbformat": 4,
 "nbformat_minor": 4
}
