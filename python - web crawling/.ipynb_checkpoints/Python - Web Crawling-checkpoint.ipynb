{
 "cells": [
  {
   "cell_type": "markdown",
   "metadata": {},
   "source": [
    "# Web Crawling\n",
    "\n",
    "\n",
    "* chorme driver! [link](https://sites.google.com/a/chromium.org/chromedriver/downloads)\n",
    "    * 만약 작동이 안된다면 이전 버전을 찾아 받는다\n",
    "\n",
    "* bs4, requests로 정적 웹들에 대한 crawler 제작은 가능\n",
    "* 동적 웹들의 경우에는 실제 웹 브라우저 상에서 작동 해야 하므로 드라이버가 필요함\n",
    "\n",
    "* TODO : \n",
    "[] : 최신 키워드 크롤링\n",
    "[] : 특정 키워드 뉴스 크롤링(제목, 요약, 링크)\n",
    "[] : 특정 키워드 사진 크롤링\n",
    "[] : 특정 키워드 뉴스 전문 크롤링\n",
    "\n",
    "* 추가적인 데이터 분석은 다른 곳에서 실시!\n",
    "* 참고 archive :\n",
    "    1. [exam](../archive/WebCrawling_by_python_exam.ipynb)"
   ]
  },
  {
   "cell_type": "code",
   "execution_count": null,
   "metadata": {},
   "outputs": [],
   "source": []
  }
 ],
 "metadata": {
  "kernelspec": {
   "display_name": "venv",
   "language": "python",
   "name": "venv"
  },
  "language_info": {
   "codemirror_mode": {
    "name": "ipython",
    "version": 3
   },
   "file_extension": ".py",
   "mimetype": "text/x-python",
   "name": "python",
   "nbconvert_exporter": "python",
   "pygments_lexer": "ipython3",
   "version": "3.6.10"
  }
 },
 "nbformat": 4,
 "nbformat_minor": 4
}
